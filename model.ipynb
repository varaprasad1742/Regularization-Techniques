{
 "cells": [
  {
   "cell_type": "code",
   "execution_count": null,
   "metadata": {},
   "outputs": [],
   "source": [
    "import pandas as pd\n",
    "import numpy as np\n",
    "import matplotlib.pyplot as plt\n",
    "import pickle as pk\n",
    "\n",
    "\n",
    "#reading the data\n",
    "data = pd.read_csv(\"Experimental values.csv\")\n",
    "data.head()"
   ]
  },
  {
   "cell_type": "code",
   "execution_count": null,
   "metadata": {},
   "outputs": [],
   "source": [
    "data"
   ]
  },
  {
   "cell_type": "code",
   "execution_count": null,
   "metadata": {},
   "outputs": [],
   "source": [
    "#removing the first column i.e S.No\n",
    "data.drop('S. No.', axis=1, inplace=True)"
   ]
  },
  {
   "cell_type": "code",
   "execution_count": null,
   "metadata": {},
   "outputs": [],
   "source": [
    "type(data)"
   ]
  },
  {
   "cell_type": "code",
   "execution_count": null,
   "metadata": {},
   "outputs": [],
   "source": [
    "data.info()"
   ]
  },
  {
   "cell_type": "code",
   "execution_count": null,
   "metadata": {},
   "outputs": [],
   "source": [
    "import seaborn as sns\n",
    "cor = data.corr(numeric_only=True)\n",
    "sns.heatmap(cor, annot=True, cmap='coolwarm')"
   ]
  },
  {
   "cell_type": "code",
   "execution_count": null,
   "metadata": {},
   "outputs": [],
   "source": [
    "for con in data[\"Cooling Conditions\"].unique():\n",
    "    wear = data[data[\"Cooling Conditions\"] == con][\"Wear(micrometer)\"]\n",
    "    plt.plot(wear, label=con)\n",
    "plt.ylabel(\"Wear in micrometer\")\n",
    "plt.legend()\n",
    "plt.show()"
   ]
  },
  {
   "cell_type": "code",
   "execution_count": null,
   "metadata": {},
   "outputs": [],
   "source": [
    "data[\"Cooling Conditions\"].value_counts()"
   ]
  },
  {
   "cell_type": "code",
   "execution_count": null,
   "metadata": {},
   "outputs": [],
   "source": [
    "from sklearn.model_selection import train_test_split\n",
    "x=data.iloc[:,0:3]\n",
    "y1=data.iloc[:,3]\n",
    "y2=data.iloc[:,4]\n",
    "y3=data.iloc[:,5]"
   ]
  },
  {
   "cell_type": "code",
   "execution_count": null,
   "metadata": {},
   "outputs": [],
   "source": []
  },
  {
   "cell_type": "code",
   "execution_count": null,
   "metadata": {},
   "outputs": [],
   "source": [
    "x= pd.get_dummies(x, columns=[\"Cooling Conditions\"], drop_first=True)\n"
   ]
  },
  {
   "cell_type": "code",
   "execution_count": null,
   "metadata": {},
   "outputs": [],
   "source": [
    "# predicting the coefficient of friction\n",
    "# specified the stratify parameter to ensure that the all the cooling conditions exist in test data\n",
    "\n",
    "x_train,x_test,y_train,y_test=train_test_split(x,y1,test_size=0.2,stratify=data[\"Cooling Conditions\"],random_state=0)"
   ]
  },
  {
   "cell_type": "code",
   "execution_count": null,
   "metadata": {},
   "outputs": [],
   "source": [
    "x_test"
   ]
  },
  {
   "cell_type": "code",
   "execution_count": null,
   "metadata": {},
   "outputs": [],
   "source": []
  },
  {
   "cell_type": "code",
   "execution_count": null,
   "metadata": {},
   "outputs": [],
   "source": [
    "from sklearn.linear_model import LinearRegression,Ridge,Lasso\n",
    "from sklearn.model_selection import cross_val_score,KFold\n",
    "from sklearn.metrics import mean_squared_error, r2_score,mean_absolute_error\n",
    "from sklearn.tree import DecisionTreeRegressor\n",
    "from sklearn.ensemble import RandomForestRegressor, GradientBoostingRegressor\n",
    "from sklearn.svm import SVR\n",
    "\n",
    "\n",
    "def build_model(model,name):\n",
    "    model.fit(x_train,y_train)\n",
    "    y_pred=model.predict(x_test)\n",
    "    print(name)\n",
    "    print(\"Training Score: \",model.score(x_train,y_train))    \n",
    "    print(\"Testing Score: \",model.score(x_test,y_test))\n",
    "    print(\"Mean squared error: \",mean_squared_error(y_test,y_pred))\n",
    "    print(\"\\n\")\n"
   ]
  },
  {
   "cell_type": "code",
   "execution_count": null,
   "metadata": {},
   "outputs": [],
   "source": [
    "build_model(LinearRegression(),\"Linear Regression\")\n",
    "alpha = [0.1,0.2,0.3,0.4,0.5,0.6]\n",
    "for i in alpha:\n",
    "    build_model(Ridge(alpha=i),\"Ridge alpha: \"+str(i))\n",
    "for i in alpha:\n",
    "    build_model(Lasso(alpha=i),\"Lasso alpha: \"+str(i))\n",
    "\n",
    "build_model(DecisionTreeRegressor(),\"Decision Tree\")\n",
    "\n",
    "build_model(RandomForestRegressor(),\"Random Forest\")\n",
    "\n",
    "build_model(GradientBoostingRegressor(),\"Gradient Boosting\")\n",
    "\n",
    "build_model(SVR(),\"Support Vector Regression\")\n"
   ]
  },
  {
   "cell_type": "markdown",
   "metadata": {},
   "source": [
    "Out of all the models, we got good score from LinearRegressiona and RidgeRegression with alpha with 0.1 "
   ]
  },
  {
   "cell_type": "code",
   "execution_count": null,
   "metadata": {},
   "outputs": [],
   "source": [
    "ridge = Ridge(alpha=0.01)\n",
    "ridge.fit(x,y1)\n",
    "y_pred = ridge.predict(x_test)\n",
    "print(\"Ridge\")\n",
    "print(\"Training Score: \",ridge.score(x_train,y_train))\n",
    "\n",
    "print(\"Testing Score: \",ridge.score(x_test,y_test))\n",
    "\n",
    "with open(\"./full-data/coeefficent-of-friction-with-ridge.pkl\",\"wb\") as file:\n",
    "    pk.dump(ridge,file)"
   ]
  },
  {
   "cell_type": "code",
   "execution_count": null,
   "metadata": {},
   "outputs": [],
   "source": [
    "lr = LinearRegression()\n",
    "\n",
    "lr.fit(x,y1)\n",
    "print(\"Linear Regression\")\n",
    "print(\"Training Score: \",lr.score(x_train,y_train))\n",
    "print(\"Testing Score: \",lr.score(x_test,y_test))\n",
    "\n",
    "with open(\"./full-data/coeefficent-of-friction-with-linear-regression.pkl\",\"wb\") as file:\n",
    "    pk.dump(lr,file)"
   ]
  },
  {
   "cell_type": "code",
   "execution_count": null,
   "metadata": {},
   "outputs": [],
   "source": [
    "# prediction of Frictional Force\n",
    "x_train,x_test,y_train,y_test=train_test_split(x,y2,test_size=0.2,stratify=data[\"Cooling Conditions\"],random_state=0)"
   ]
  },
  {
   "cell_type": "code",
   "execution_count": null,
   "metadata": {},
   "outputs": [],
   "source": [
    "build_model(LinearRegression(),\"Linear Regression\")\n",
    "alpha = [0.1,0.2,0.3,0.4,0.5,0.6]\n",
    "for i in alpha:\n",
    "    build_model(Ridge(alpha=i),\"Ridge alpha: \"+str(i))\n",
    "for i in alpha:\n",
    "    build_model(Lasso(alpha=i),\"Lasso alpha: \"+str(i))\n",
    "\n",
    "build_model(DecisionTreeRegressor(),\"Decision Tree\")\n",
    "\n",
    "build_model(RandomForestRegressor(),\"Random Forest\")\n",
    "\n",
    "build_model(GradientBoostingRegressor(),\"Gradient Boosting\")\n",
    "\n",
    "build_model(SVR(),\"Support Vector Regression\")\n"
   ]
  },
  {
   "cell_type": "code",
   "execution_count": null,
   "metadata": {},
   "outputs": [],
   "source": [
    "# final model for frictional force\n",
    "ridge = Ridge(alpha=0.21)\n",
    "ridge.fit(x,y2)\n",
    "\n",
    "y_pred = ridge.predict(x_test)\n",
    "print(\"Ridge\")\n",
    "print(\"Training Score: \",ridge.score(x_train,y_train))\n",
    "print(\"Testing Score: \",ridge.score(x_test,y_test))\n",
    "print(\"Mean squared error: \",mean_squared_error(y_test,y_pred))\n",
    "\n",
    "\n"
   ]
  },
  {
   "cell_type": "code",
   "execution_count": null,
   "metadata": {},
   "outputs": [],
   "source": [
    "\n",
    "with open(\"./full-data/frictional-force-with-ridge.pkl\",\"wb\") as file:\n",
    "    pk.dump(ridge,file)"
   ]
  },
  {
   "cell_type": "code",
   "execution_count": null,
   "metadata": {},
   "outputs": [],
   "source": [
    "# prediction of Wear\n",
    "x_train,x_test,y_train,y_test=train_test_split(x,y3,test_size=0.2,stratify=data[\"Cooling Conditions\"],random_state=0)\n"
   ]
  },
  {
   "cell_type": "code",
   "execution_count": null,
   "metadata": {},
   "outputs": [],
   "source": [
    "build_model(LinearRegression(),\"Linear Regression\")\n",
    "alpha = [0.1,0.2,0.3,0.4,0.5,0.6]\n",
    "for i in alpha:\n",
    "    build_model(Ridge(alpha=i),\"Ridge alpha: \"+str(i))\n",
    "for i in alpha:\n",
    "    build_model(Lasso(alpha=i),\"Lasso alpha: \"+str(i))\n",
    "\n",
    "build_model(DecisionTreeRegressor(),\"Decision Tree\")\n",
    "\n",
    "build_model(RandomForestRegressor(),\"Random Forest\")\n",
    "\n",
    "build_model(GradientBoostingRegressor(),\"Gradient Boosting\")\n",
    "\n",
    "build_model(SVR(),\"Support Vector Regression\")\n"
   ]
  },
  {
   "cell_type": "markdown",
   "metadata": {},
   "source": [
    "# lasso and linear both performed well on test data\n"
   ]
  },
  {
   "cell_type": "code",
   "execution_count": null,
   "metadata": {},
   "outputs": [],
   "source": [
    "# first we try with lasso\n",
    "alpha = np.arange(0.01,0.1,0.01)\n",
    "lasso = Lasso()\n",
    "for i in alpha:\n",
    "    build_model(Lasso(alpha=i),\"Lasso alpha: \"+str(i))\n"
   ]
  },
  {
   "cell_type": "code",
   "execution_count": null,
   "metadata": {},
   "outputs": [],
   "source": [
    "lasso=Lasso(alpha=0.01)\n",
    "lasso.fit(x,y3)\n",
    "with open(\"./full-data/wear-with-lasso.pkl\",\"wb\") as file:\n",
    "    pk.dump(lasso,file)"
   ]
  },
  {
   "cell_type": "code",
   "execution_count": null,
   "metadata": {},
   "outputs": [],
   "source": [
    "#linear Regression \n",
    "lr = LinearRegression()\n",
    "lr.fit(x,y3)\n",
    "y_pred = lr.predict(x_test)\n",
    "print(\"Linear Regression\")\n",
    "print(\"Training Score: \",lr.score(x_train,y_train))\n",
    "print(\"Testing Score: \",lr.score(x_test,y_test))\n",
    "print(\"Mean Squared Error: \", mean_squared_error(y_test,y_pred))\n",
    "print(\"Mean Absolute Error: \", mean_absolute_error(y_test,y_pred))\n",
    "r2_score(y_test,y_pred)"
   ]
  },
  {
   "cell_type": "code",
   "execution_count": null,
   "metadata": {},
   "outputs": [],
   "source": [
    "with open(\"./full-data/wear-with-linear-regression.pkl\",\"wb\") as file:\n",
    "    pk.dump(lr,file)"
   ]
  },
  {
   "cell_type": "code",
   "execution_count": null,
   "metadata": {},
   "outputs": [],
   "source": [
    "# final models\n",
    "# for coefficient of friction prediction we go with Ridge with alpha = 0.01 and LinearRegression\n",
    "# for frictional force prediction we go with  Ridge with alpha = 0.21\n",
    "# for wear prediction we go with Lasso with alpha = 0.01 and LinearRegression\n",
    "\n"
   ]
  }
 ],
 "metadata": {
  "kernelspec": {
   "display_name": "nlp",
   "language": "python",
   "name": "python3"
  },
  "language_info": {
   "codemirror_mode": {
    "name": "ipython",
    "version": 3
   },
   "file_extension": ".py",
   "mimetype": "text/x-python",
   "name": "python",
   "nbconvert_exporter": "python",
   "pygments_lexer": "ipython3",
   "version": "3.11.5"
  }
 },
 "nbformat": 4,
 "nbformat_minor": 2
}
